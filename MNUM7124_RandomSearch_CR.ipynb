{
  "nbformat": 4,
  "nbformat_minor": 0,
  "metadata": {
    "colab": {
      "provenance": []
    },
    "kernelspec": {
      "name": "python3",
      "display_name": "Python 3"
    },
    "language_info": {
      "name": "python"
    }
  },
  "cells": [
    {
      "cell_type": "markdown",
      "source": [
        "<left>\n",
        "    <img src=\"http://epecora.com.br/DataFiles/PPGOLD_PPGMNE.png\" width=\"800\" alt=\"PPGOLD Data Science: INTRO\"  />\n",
        "</left>\n",
        "\n",
        "# **Combinatorial Optimization - PPGMNE:**  \n",
        "\n",
        "## Task\n",
        "\n",
        "* Program a random seacrh for the TSP problem\n",
        "\n",
        "Steps:\n",
        "\n",
        "1. Read the file (Code already given)\n",
        "2. Program a function to compute the objetive function, having as input a solution and a distance matrix\n",
        "3. Program a function to randomly generate a solution\n",
        "4. Randomly generate `2*n` solutions and print the best\n",
        "\n",
        "\n",
        "---\n"
      ],
      "metadata": {
        "id": "D0IfNiBS9Sm0"
      }
    },
    {
      "cell_type": "code",
      "execution_count": 2,
      "metadata": {
        "id": "ShD9-Cgc9CHO"
      },
      "outputs": [],
      "source": [
        "import numpy as np\n",
        "import pandas as pd\n",
        "import random\n",
        "import os"
      ]
    },
    {
      "cell_type": "code",
      "source": [
        "def read_tsp_file(filename):\n",
        "\n",
        "    if os.path.exists(filename):\n",
        "        data = pd.read_csv(filename)\n",
        "        return data\n",
        "    else:\n",
        "        print(f\"File {filename} not found.\")\n",
        "        return None\n",
        "\n",
        "def compute_total_distance(sequence, distance_matrix):\n",
        "\n",
        "    # Compute the total distance for a given sequence of nodes.\n",
        "\n",
        "    total_distance = 0\n",
        "\n",
        "    # Loop through the sequence to compute the total distance\n",
        "    for i in range(len(sequence) - 1):\n",
        "        total_distance += distance_matrix[sequence[i], sequence[i + 1]]\n",
        "\n",
        "    # Add the distance to return to the starting node\n",
        "    total_distance += distance_matrix[sequence[-1], sequence[0]]\n",
        "\n",
        "    return total_distance"
      ],
      "metadata": {
        "id": "jwjgxtTL9FQq"
      },
      "execution_count": 3,
      "outputs": []
    },
    {
      "cell_type": "code",
      "source": [
        "# data file\n",
        "filename = \"/content/TSP_05_005.csv\"\n",
        "\n",
        "tsp_data = read_tsp_file(filename)\n",
        "tsp_data.drop(columns=['X','Y'], inplace=True)\n",
        "tsp_distance = tsp_data.to_numpy()\n",
        "\n",
        "n = tsp_distance.shape[0]\n",
        "\n",
        "S_best = []\n",
        "OF_best = np.infty\n",
        "\n",
        "# Random Search\n",
        "for i in range(2*n):\n",
        "  S0 = list(range(n))\n",
        "  random.shuffle(S0)\n",
        "  OF = compute_total_distance(S0, tsp_distance)\n",
        "  if OF < OF_best:\n",
        "    S_best = S0\n",
        "    OF_best = OF\n",
        "\n",
        "print(OF_best)\n",
        "print(S_best)\n"
      ],
      "metadata": {
        "id": "zgNydXhL9J3X",
        "colab": {
          "base_uri": "https://localhost:8080/"
        },
        "outputId": "fd1d0f0d-436f-4712-9764-e95a7caef5a3"
      },
      "execution_count": 16,
      "outputs": [
        {
          "output_type": "stream",
          "name": "stdout",
          "text": [
            "3.189927760339611\n",
            "[2, 3, 4, 0, 1]\n"
          ]
        }
      ]
    }
  ]
}