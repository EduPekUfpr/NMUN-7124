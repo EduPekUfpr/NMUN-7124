{
  "nbformat": 4,
  "nbformat_minor": 0,
  "metadata": {
    "colab": {
      "provenance": []
    },
    "kernelspec": {
      "name": "python3",
      "display_name": "Python 3"
    },
    "language_info": {
      "name": "python"
    }
  },
  "cells": [
    {
      "cell_type": "markdown",
      "source": [
        "<left>\n",
        "    <img src=\"http://epecora.com.br/DataFiles/PPGOLD_PPGMNE.png\" width=\"800\" alt=\"PPGOLD Data Science: INTRO\"  />\n",
        "</left>\n",
        "\n",
        "# **Combinatorial Optimization - PPGMNE:**  \n",
        "\n",
        "## Taks\n",
        "\n",
        "* Program a random seacrh for the TSP problem\n",
        "\n",
        "Steps:\n",
        "\n",
        "1. Read the file (Code already given)\n",
        "2. Program a function to compute the objetive function, having as input a solution and a distance matrix\n",
        "3. Program a function to randomly generate a solution\n",
        "4. Randomly generate `2*n` solutions and print the best\n",
        "\n",
        "\n",
        "---\n"
      ],
      "metadata": {
        "id": "D0IfNiBS9Sm0"
      }
    },
    {
      "cell_type": "code",
      "execution_count": 1,
      "metadata": {
        "id": "ShD9-Cgc9CHO"
      },
      "outputs": [],
      "source": [
        "import numpy as np\n",
        "import pandas as pd\n",
        "import random\n",
        "import os"
      ]
    },
    {
      "cell_type": "code",
      "source": [
        "def read_tsp_file(filename):\n",
        "\n",
        "    if os.path.exists(filename):\n",
        "        data = pd.read_csv(filename)\n",
        "        return data\n",
        "    else:\n",
        "        print(f\"File {filename} not found.\")\n",
        "        return None"
      ],
      "metadata": {
        "id": "jwjgxtTL9FQq"
      },
      "execution_count": 2,
      "outputs": []
    },
    {
      "cell_type": "code",
      "source": [
        "# data file\n",
        "filename = \"/content/TSP_50_004.csv\"\n",
        "\n",
        "tsp_data = read_tsp_file(filename)\n",
        "tsp_data.drop(columns=['X','Y'], inplace=True)\n",
        "tsp_distance = tsp_data.to_numpy()\n",
        "\n",
        "n = tsp_distance.shape[0]\n",
        "\n",
        "# Random Search 2\n",
        "\n",
        "\n",
        "\n",
        "\n",
        "\n",
        "\n",
        "# Initialization\n",
        "S_best = []\n",
        "OF_best = np.infty"
      ],
      "metadata": {
        "id": "zgNydXhL9J3X"
      },
      "execution_count": 4,
      "outputs": []
    }
  ]
}